{
 "cells": [
  {
   "cell_type": "markdown",
   "id": "1d45fcfb",
   "metadata": {},
   "source": [
    "## Santa Fe River at Graham"
   ]
  },
  {
   "cell_type": "code",
   "execution_count": 1,
   "id": "c2cfb4f1",
   "metadata": {},
   "outputs": [],
   "source": [
    "import matplotlib.pyplot as plt\n",
    "import numpy as np\n",
    "import pandas as pd\n",
    "from datetime import datetime\n",
    "from pydsstools.heclib.dss import HecDss"
   ]
  },
  {
   "cell_type": "markdown",
   "id": "c942c10d",
   "metadata": {},
   "source": [
    "Specify the DSS file to be used. Relative path"
   ]
  },
  {
   "cell_type": "code",
   "execution_count": 2,
   "id": "d2f75cd3",
   "metadata": {},
   "outputs": [],
   "source": [
    "dss_file = r\".\\\\SantaFeLake.dss\""
   ]
  },
  {
   "cell_type": "markdown",
   "id": "26618347",
   "metadata": {},
   "source": [
    "Specify the scenarios to be read. Must match Part F in the DSS file"
   ]
  },
  {
   "cell_type": "code",
   "execution_count": 3,
   "id": "462367ac",
   "metadata": {},
   "outputs": [],
   "source": [
    "scenarios = [\n",
    "                \"100yr_Base\", \n",
    "                \"100yr_Single_100\",\n",
    "                \"100yr_Single_200\",\n",
    "                \"100yr_Single_500\",\n",
    "                \"100yr_Single_1000\",\n",
    "                \"100yr_Single_2000\",\n",
    "                \"100yr_Breaklines_50_100\",\n",
    "                \"100yr_Breaklines_50_200\",\n",
    "                \"100yr_Breaklines_100_500\",\n",
    "                \"100yr_Breaklines_200_500\",\n",
    "                \"100yr_Breaklines_300_1000\",\n",
    "                \"100yr_Breaklines_300_2000\",\n",
    "                \"100yr_Breaklines_500_2000\",\n",
    "                \"100yr_Refinement_50_200\",\n",
    "                \"100yr_Refinement_200_500\",\n",
    "                \"100yr_Refinement_300_2000\",\n",
    "                \"100yr_Hexagonal_50_200\",\n",
    "                \"100yr_Hexagonal_300_2000\",\n",
    "                \"100yr_Embankment_50_200\",\n",
    "                \"100yr_Embankment_300_2000\",\n",
    "                \"100yr_Br_50_200_025sqmi\",\n",
    "                \"100yr_Br_300_2000_025sqmi\",\n",
    "]"
   ]
  },
  {
   "cell_type": "code",
   "execution_count": 4,
   "id": "d254d512",
   "metadata": {},
   "outputs": [],
   "source": [
    "base_pathname = \"/REFERENCE LINES/Santa Fe Lake: USGS_SantaFeRiver_Graham/FLOW/01Dec1999/15Minute/\""
   ]
  },
  {
   "cell_type": "code",
   "execution_count": 5,
   "id": "0bb7e519",
   "metadata": {},
   "outputs": [],
   "source": [
    "# pathname = base_pathname + scenarios[0] + \"/\"\n",
    "pathname = \"/REFERENCE LINES/Santa Fe Lake: USGS_SantaFeRiver_Graham/FLOW/01Dec1999/15Minute/100yr_Breaklines_100_500/\""
   ]
  },
  {
   "cell_type": "code",
   "execution_count": 6,
   "id": "d0b95783",
   "metadata": {},
   "outputs": [
    {
     "data": {
      "text/html": [
       "<div>\n",
       "<style scoped>\n",
       "    .dataframe tbody tr th:only-of-type {\n",
       "        vertical-align: middle;\n",
       "    }\n",
       "\n",
       "    .dataframe tbody tr th {\n",
       "        vertical-align: top;\n",
       "    }\n",
       "\n",
       "    .dataframe thead th {\n",
       "        text-align: right;\n",
       "    }\n",
       "</style>\n",
       "<table border=\"1\" class=\"dataframe\">\n",
       "  <thead>\n",
       "    <tr style=\"text-align: right;\">\n",
       "      <th></th>\n",
       "      <th>Datetime</th>\n",
       "      <th>Value</th>\n",
       "    </tr>\n",
       "  </thead>\n",
       "  <tbody>\n",
       "    <tr>\n",
       "      <th>0</th>\n",
       "      <td>1999-12-01 00:15:00</td>\n",
       "      <td>-3.402823e+38</td>\n",
       "    </tr>\n",
       "    <tr>\n",
       "      <th>1</th>\n",
       "      <td>1999-12-01 00:30:00</td>\n",
       "      <td>-3.402823e+38</td>\n",
       "    </tr>\n",
       "    <tr>\n",
       "      <th>2</th>\n",
       "      <td>1999-12-01 00:45:00</td>\n",
       "      <td>-3.402823e+38</td>\n",
       "    </tr>\n",
       "    <tr>\n",
       "      <th>3</th>\n",
       "      <td>1999-12-01 01:00:00</td>\n",
       "      <td>-3.402823e+38</td>\n",
       "    </tr>\n",
       "    <tr>\n",
       "      <th>4</th>\n",
       "      <td>1999-12-01 01:15:00</td>\n",
       "      <td>-3.402823e+38</td>\n",
       "    </tr>\n",
       "    <tr>\n",
       "      <th>...</th>\n",
       "      <td>...</td>\n",
       "      <td>...</td>\n",
       "    </tr>\n",
       "    <tr>\n",
       "      <th>2971</th>\n",
       "      <td>1999-12-31 23:00:00</td>\n",
       "      <td>-3.402823e+38</td>\n",
       "    </tr>\n",
       "    <tr>\n",
       "      <th>2972</th>\n",
       "      <td>1999-12-31 23:15:00</td>\n",
       "      <td>-3.402823e+38</td>\n",
       "    </tr>\n",
       "    <tr>\n",
       "      <th>2973</th>\n",
       "      <td>1999-12-31 23:30:00</td>\n",
       "      <td>-3.402823e+38</td>\n",
       "    </tr>\n",
       "    <tr>\n",
       "      <th>2974</th>\n",
       "      <td>1999-12-31 23:45:00</td>\n",
       "      <td>-3.402823e+38</td>\n",
       "    </tr>\n",
       "    <tr>\n",
       "      <th>2975</th>\n",
       "      <td>2000-01-01 00:00:00</td>\n",
       "      <td>0.000000e+00</td>\n",
       "    </tr>\n",
       "  </tbody>\n",
       "</table>\n",
       "<p>2976 rows × 2 columns</p>\n",
       "</div>"
      ],
      "text/plain": [
       "                Datetime         Value\n",
       "0    1999-12-01 00:15:00 -3.402823e+38\n",
       "1    1999-12-01 00:30:00 -3.402823e+38\n",
       "2    1999-12-01 00:45:00 -3.402823e+38\n",
       "3    1999-12-01 01:00:00 -3.402823e+38\n",
       "4    1999-12-01 01:15:00 -3.402823e+38\n",
       "...                  ...           ...\n",
       "2971 1999-12-31 23:00:00 -3.402823e+38\n",
       "2972 1999-12-31 23:15:00 -3.402823e+38\n",
       "2973 1999-12-31 23:30:00 -3.402823e+38\n",
       "2974 1999-12-31 23:45:00 -3.402823e+38\n",
       "2975 2000-01-01 00:00:00  0.000000e+00\n",
       "\n",
       "[2976 rows x 2 columns]"
      ]
     },
     "execution_count": 6,
     "metadata": {},
     "output_type": "execute_result"
    }
   ],
   "source": [
    "with HecDss.Open(dss_file) as fid:\n",
    "    ts = fid.read_ts(pathname,regular=False,window_flag=0)\n",
    "    d = {'Datetime': pd.Series(ts.pytimes), 'Value': pd.Series(ts.values)}\n",
    "    dss_df = pd.DataFrame(d)   \n",
    "    \n",
    "dss_df"
   ]
  },
  {
   "cell_type": "markdown",
   "id": "6af8ccb3",
   "metadata": {},
   "source": [
    "The datetime somehow starts before the simulation? Need to specify the simulation window"
   ]
  },
  {
   "cell_type": "code",
   "execution_count": 7,
   "id": "3ebfcb40",
   "metadata": {},
   "outputs": [
    {
     "data": {
      "text/html": [
       "<div>\n",
       "<style scoped>\n",
       "    .dataframe tbody tr th:only-of-type {\n",
       "        vertical-align: middle;\n",
       "    }\n",
       "\n",
       "    .dataframe tbody tr th {\n",
       "        vertical-align: top;\n",
       "    }\n",
       "\n",
       "    .dataframe thead th {\n",
       "        text-align: right;\n",
       "    }\n",
       "</style>\n",
       "<table border=\"1\" class=\"dataframe\">\n",
       "  <thead>\n",
       "    <tr style=\"text-align: right;\">\n",
       "      <th></th>\n",
       "      <th>Datetime</th>\n",
       "      <th>Value</th>\n",
       "    </tr>\n",
       "  </thead>\n",
       "  <tbody>\n",
       "    <tr>\n",
       "      <th>count</th>\n",
       "      <td>2976</td>\n",
       "      <td>2.976000e+03</td>\n",
       "    </tr>\n",
       "    <tr>\n",
       "      <th>mean</th>\n",
       "      <td>1999-12-16 12:07:30</td>\n",
       "      <td>-inf</td>\n",
       "    </tr>\n",
       "    <tr>\n",
       "      <th>min</th>\n",
       "      <td>1999-12-01 00:15:00</td>\n",
       "      <td>-3.402823e+38</td>\n",
       "    </tr>\n",
       "    <tr>\n",
       "      <th>25%</th>\n",
       "      <td>1999-12-08 18:11:15</td>\n",
       "      <td>-3.402823e+38</td>\n",
       "    </tr>\n",
       "    <tr>\n",
       "      <th>50%</th>\n",
       "      <td>1999-12-16 12:07:30</td>\n",
       "      <td>-3.402823e+38</td>\n",
       "    </tr>\n",
       "    <tr>\n",
       "      <th>75%</th>\n",
       "      <td>1999-12-24 06:03:45</td>\n",
       "      <td>-3.402823e+38</td>\n",
       "    </tr>\n",
       "    <tr>\n",
       "      <th>max</th>\n",
       "      <td>2000-01-01 00:00:00</td>\n",
       "      <td>0.000000e+00</td>\n",
       "    </tr>\n",
       "    <tr>\n",
       "      <th>std</th>\n",
       "      <td>NaN</td>\n",
       "      <td>inf</td>\n",
       "    </tr>\n",
       "  </tbody>\n",
       "</table>\n",
       "</div>"
      ],
      "text/plain": [
       "                  Datetime         Value\n",
       "count                 2976  2.976000e+03\n",
       "mean   1999-12-16 12:07:30          -inf\n",
       "min    1999-12-01 00:15:00 -3.402823e+38\n",
       "25%    1999-12-08 18:11:15 -3.402823e+38\n",
       "50%    1999-12-16 12:07:30 -3.402823e+38\n",
       "75%    1999-12-24 06:03:45 -3.402823e+38\n",
       "max    2000-01-01 00:00:00  0.000000e+00\n",
       "std                    NaN           inf"
      ]
     },
     "execution_count": 7,
     "metadata": {},
     "output_type": "execute_result"
    }
   ],
   "source": [
    "dss_df.describe()"
   ]
  },
  {
   "cell_type": "code",
   "execution_count": 8,
   "id": "0a580643",
   "metadata": {},
   "outputs": [],
   "source": [
    "start_datetime = datetime.strptime(\"2000-01-01 00:00:00\", \"%Y-%m-%d %H:%M:%S\")\n",
    "end_datetime = datetime.strptime(\"2000-06-01 00:00:00\", \"%Y-%m-%d %H:%M:%S\")"
   ]
  },
  {
   "cell_type": "code",
   "execution_count": 9,
   "id": "81a2fb3d",
   "metadata": {
    "scrolled": true
   },
   "outputs": [
    {
     "data": {
      "text/html": [
       "<div>\n",
       "<style scoped>\n",
       "    .dataframe tbody tr th:only-of-type {\n",
       "        vertical-align: middle;\n",
       "    }\n",
       "\n",
       "    .dataframe tbody tr th {\n",
       "        vertical-align: top;\n",
       "    }\n",
       "\n",
       "    .dataframe thead th {\n",
       "        text-align: right;\n",
       "    }\n",
       "</style>\n",
       "<table border=\"1\" class=\"dataframe\">\n",
       "  <thead>\n",
       "    <tr style=\"text-align: right;\">\n",
       "      <th></th>\n",
       "      <th>Datetime</th>\n",
       "      <th>Value</th>\n",
       "    </tr>\n",
       "  </thead>\n",
       "  <tbody>\n",
       "  </tbody>\n",
       "</table>\n",
       "</div>"
      ],
      "text/plain": [
       "Empty DataFrame\n",
       "Columns: [Datetime, Value]\n",
       "Index: []"
      ]
     },
     "execution_count": 9,
     "metadata": {},
     "output_type": "execute_result"
    }
   ],
   "source": [
    "# dss_df.loc[(dss_df['Datetime'] > start_datetime) & (dss_df['Datetime'] <= end_datetime)]\n",
    "clip = dss_df.loc[(dss_df['Datetime'] > \"2000-01-01 00:00:00\")]\n",
    "clip.head()"
   ]
  },
  {
   "cell_type": "markdown",
   "id": "dcf7b8f9",
   "metadata": {},
   "source": [
    "After much trial I've realised the DSS file is not being correctly. Maybe try from a csv instead"
   ]
  },
  {
   "cell_type": "code",
   "execution_count": null,
   "id": "23bf0b59",
   "metadata": {},
   "outputs": [],
   "source": []
  }
 ],
 "metadata": {
  "kernelspec": {
   "display_name": "Python 3 (ipykernel)",
   "language": "python",
   "name": "python3"
  },
  "language_info": {
   "codemirror_mode": {
    "name": "ipython",
    "version": 3
   },
   "file_extension": ".py",
   "mimetype": "text/x-python",
   "name": "python",
   "nbconvert_exporter": "python",
   "pygments_lexer": "ipython3",
   "version": "3.11.4"
  }
 },
 "nbformat": 4,
 "nbformat_minor": 5
}
